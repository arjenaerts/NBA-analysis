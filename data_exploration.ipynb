{
 "cells": [
  {
   "cell_type": "code",
   "execution_count": 1,
   "metadata": {
    "scrolled": true
   },
   "outputs": [
    {
     "name": "stdout",
     "output_type": "stream",
     "text": [
      "<class 'pandas.core.frame.DataFrame'>\n",
      "RangeIndex: 618019 entries, 0 to 618018\n",
      "Data columns (total 11 columns):\n",
      "end_result    618019 non-null object\n",
      "game          618019 non-null object\n",
      "game_id       618019 non-null float64\n",
      "period        618019 non-null float64\n",
      "play          618019 non-null object\n",
      "player        618019 non-null object\n",
      "playoffs      618019 non-null object\n",
      "score         618019 non-null object\n",
      "season        618019 non-null object\n",
      "shot_made     618019 non-null int64\n",
      "time          618019 non-null object\n",
      "dtypes: float64(2), int64(1), object(8)\n",
      "memory usage: 51.9+ MB\n"
     ]
    },
    {
     "data": {
      "text/html": [
       "<div>\n",
       "<style scoped>\n",
       "    .dataframe tbody tr th:only-of-type {\n",
       "        vertical-align: middle;\n",
       "    }\n",
       "\n",
       "    .dataframe tbody tr th {\n",
       "        vertical-align: top;\n",
       "    }\n",
       "\n",
       "    .dataframe thead th {\n",
       "        text-align: right;\n",
       "    }\n",
       "</style>\n",
       "<table border=\"1\" class=\"dataframe\">\n",
       "  <thead>\n",
       "    <tr style=\"text-align: right;\">\n",
       "      <th></th>\n",
       "      <th>end_result</th>\n",
       "      <th>game</th>\n",
       "      <th>game_id</th>\n",
       "      <th>period</th>\n",
       "      <th>play</th>\n",
       "      <th>player</th>\n",
       "      <th>playoffs</th>\n",
       "      <th>score</th>\n",
       "      <th>season</th>\n",
       "      <th>shot_made</th>\n",
       "      <th>time</th>\n",
       "    </tr>\n",
       "  </thead>\n",
       "  <tbody>\n",
       "    <tr>\n",
       "      <th>count</th>\n",
       "      <td>618019</td>\n",
       "      <td>618019</td>\n",
       "      <td>6.180190e+05</td>\n",
       "      <td>618019.000000</td>\n",
       "      <td>618019</td>\n",
       "      <td>618019</td>\n",
       "      <td>618019</td>\n",
       "      <td>618019</td>\n",
       "      <td>618019</td>\n",
       "      <td>618019.000000</td>\n",
       "      <td>618019</td>\n",
       "    </tr>\n",
       "    <tr>\n",
       "      <th>unique</th>\n",
       "      <td>2725</td>\n",
       "      <td>988</td>\n",
       "      <td>NaN</td>\n",
       "      <td>NaN</td>\n",
       "      <td>10482</td>\n",
       "      <td>1098</td>\n",
       "      <td>2</td>\n",
       "      <td>8753</td>\n",
       "      <td>10</td>\n",
       "      <td>NaN</td>\n",
       "      <td>534</td>\n",
       "    </tr>\n",
       "    <tr>\n",
       "      <th>top</th>\n",
       "      <td>101 - 108</td>\n",
       "      <td>LAL - DEN</td>\n",
       "      <td>NaN</td>\n",
       "      <td>NaN</td>\n",
       "      <td>LeBron James makes free throw 2 of 2</td>\n",
       "      <td>LeBron James</td>\n",
       "      <td>regular</td>\n",
       "      <td>0 - 1</td>\n",
       "      <td>2006 - 2007</td>\n",
       "      <td>NaN</td>\n",
       "      <td>0:00</td>\n",
       "    </tr>\n",
       "    <tr>\n",
       "      <th>freq</th>\n",
       "      <td>1294</td>\n",
       "      <td>1554</td>\n",
       "      <td>NaN</td>\n",
       "      <td>NaN</td>\n",
       "      <td>2598</td>\n",
       "      <td>8001</td>\n",
       "      <td>575893</td>\n",
       "      <td>770</td>\n",
       "      <td>67612</td>\n",
       "      <td>NaN</td>\n",
       "      <td>2666</td>\n",
       "    </tr>\n",
       "    <tr>\n",
       "      <th>mean</th>\n",
       "      <td>NaN</td>\n",
       "      <td>NaN</td>\n",
       "      <td>3.339369e+08</td>\n",
       "      <td>2.696207</td>\n",
       "      <td>NaN</td>\n",
       "      <td>NaN</td>\n",
       "      <td>NaN</td>\n",
       "      <td>NaN</td>\n",
       "      <td>NaN</td>\n",
       "      <td>0.756755</td>\n",
       "      <td>NaN</td>\n",
       "    </tr>\n",
       "    <tr>\n",
       "      <th>std</th>\n",
       "      <td>NaN</td>\n",
       "      <td>NaN</td>\n",
       "      <td>5.522010e+07</td>\n",
       "      <td>1.126026</td>\n",
       "      <td>NaN</td>\n",
       "      <td>NaN</td>\n",
       "      <td>NaN</td>\n",
       "      <td>NaN</td>\n",
       "      <td>NaN</td>\n",
       "      <td>0.429042</td>\n",
       "      <td>NaN</td>\n",
       "    </tr>\n",
       "    <tr>\n",
       "      <th>min</th>\n",
       "      <td>NaN</td>\n",
       "      <td>NaN</td>\n",
       "      <td>2.610310e+08</td>\n",
       "      <td>1.000000</td>\n",
       "      <td>NaN</td>\n",
       "      <td>NaN</td>\n",
       "      <td>NaN</td>\n",
       "      <td>NaN</td>\n",
       "      <td>NaN</td>\n",
       "      <td>0.000000</td>\n",
       "      <td>NaN</td>\n",
       "    </tr>\n",
       "    <tr>\n",
       "      <th>25%</th>\n",
       "      <td>NaN</td>\n",
       "      <td>NaN</td>\n",
       "      <td>2.812260e+08</td>\n",
       "      <td>2.000000</td>\n",
       "      <td>NaN</td>\n",
       "      <td>NaN</td>\n",
       "      <td>NaN</td>\n",
       "      <td>NaN</td>\n",
       "      <td>NaN</td>\n",
       "      <td>1.000000</td>\n",
       "      <td>NaN</td>\n",
       "    </tr>\n",
       "    <tr>\n",
       "      <th>50%</th>\n",
       "      <td>NaN</td>\n",
       "      <td>NaN</td>\n",
       "      <td>3.103060e+08</td>\n",
       "      <td>3.000000</td>\n",
       "      <td>NaN</td>\n",
       "      <td>NaN</td>\n",
       "      <td>NaN</td>\n",
       "      <td>NaN</td>\n",
       "      <td>NaN</td>\n",
       "      <td>1.000000</td>\n",
       "      <td>NaN</td>\n",
       "    </tr>\n",
       "    <tr>\n",
       "      <th>75%</th>\n",
       "      <td>NaN</td>\n",
       "      <td>NaN</td>\n",
       "      <td>4.004895e+08</td>\n",
       "      <td>4.000000</td>\n",
       "      <td>NaN</td>\n",
       "      <td>NaN</td>\n",
       "      <td>NaN</td>\n",
       "      <td>NaN</td>\n",
       "      <td>NaN</td>\n",
       "      <td>1.000000</td>\n",
       "      <td>NaN</td>\n",
       "    </tr>\n",
       "    <tr>\n",
       "      <th>max</th>\n",
       "      <td>NaN</td>\n",
       "      <td>NaN</td>\n",
       "      <td>4.008782e+08</td>\n",
       "      <td>8.000000</td>\n",
       "      <td>NaN</td>\n",
       "      <td>NaN</td>\n",
       "      <td>NaN</td>\n",
       "      <td>NaN</td>\n",
       "      <td>NaN</td>\n",
       "      <td>1.000000</td>\n",
       "      <td>NaN</td>\n",
       "    </tr>\n",
       "  </tbody>\n",
       "</table>\n",
       "</div>"
      ],
      "text/plain": [
       "       end_result       game       game_id         period  \\\n",
       "count      618019     618019  6.180190e+05  618019.000000   \n",
       "unique       2725        988           NaN            NaN   \n",
       "top     101 - 108  LAL - DEN           NaN            NaN   \n",
       "freq         1294       1554           NaN            NaN   \n",
       "mean          NaN        NaN  3.339369e+08       2.696207   \n",
       "std           NaN        NaN  5.522010e+07       1.126026   \n",
       "min           NaN        NaN  2.610310e+08       1.000000   \n",
       "25%           NaN        NaN  2.812260e+08       2.000000   \n",
       "50%           NaN        NaN  3.103060e+08       3.000000   \n",
       "75%           NaN        NaN  4.004895e+08       4.000000   \n",
       "max           NaN        NaN  4.008782e+08       8.000000   \n",
       "\n",
       "                                        play        player playoffs   score  \\\n",
       "count                                 618019        618019   618019  618019   \n",
       "unique                                 10482          1098        2    8753   \n",
       "top     LeBron James makes free throw 2 of 2  LeBron James  regular   0 - 1   \n",
       "freq                                    2598          8001   575893     770   \n",
       "mean                                     NaN           NaN      NaN     NaN   \n",
       "std                                      NaN           NaN      NaN     NaN   \n",
       "min                                      NaN           NaN      NaN     NaN   \n",
       "25%                                      NaN           NaN      NaN     NaN   \n",
       "50%                                      NaN           NaN      NaN     NaN   \n",
       "75%                                      NaN           NaN      NaN     NaN   \n",
       "max                                      NaN           NaN      NaN     NaN   \n",
       "\n",
       "             season      shot_made    time  \n",
       "count        618019  618019.000000  618019  \n",
       "unique           10            NaN     534  \n",
       "top     2006 - 2007            NaN    0:00  \n",
       "freq          67612            NaN    2666  \n",
       "mean            NaN       0.756755     NaN  \n",
       "std             NaN       0.429042     NaN  \n",
       "min             NaN       0.000000     NaN  \n",
       "25%             NaN       1.000000     NaN  \n",
       "50%             NaN       1.000000     NaN  \n",
       "75%             NaN       1.000000     NaN  \n",
       "max             NaN       1.000000     NaN  "
      ]
     },
     "execution_count": 1,
     "metadata": {},
     "output_type": "execute_result"
    }
   ],
   "source": [
    "import matplotlib.pyplot as plt\n",
    "import pandas as pd\n",
    "import numpy as np\n",
    "\n",
    "data = pd.read_csv('free_throws.csv')\n",
    "data.info()\n",
    "data.describe(include='all')"
   ]
  },
  {
   "cell_type": "markdown",
   "metadata": {},
   "source": [
    "The data consists of 11 variables, each describing a feature of the over 600.000 free throws (or a feature of a feature, such as the end-score of the game in which the free throw took place). Both game_id and period should really be integers, hence we will change their types from floats to ints. To get an idea of the higher level relationships in the data we want to know the average number of free throws and average fraction of successful free throws in a game per period and per game type (playoffs or regular). "
   ]
  },
  {
   "cell_type": "code",
   "execution_count": 2,
   "metadata": {
    "scrolled": true
   },
   "outputs": [
    {
     "name": "stderr",
     "output_type": "stream",
     "text": [
      "/usr/local/lib/python3.5/dist-packages/ipykernel_launcher.py:3: FutureWarning: using a dict on a Series for aggregation\n",
      "is deprecated and will be removed in a future version\n",
      "  This is separate from the ipykernel package so we can avoid doing imports until\n"
     ]
    }
   ],
   "source": [
    "data['game_id'] = data['game_id'].astype('int')\n",
    "data['period'] = data['period'].astype('int')\n",
    "succes_ft_period_game = data.groupby(['playoffs', 'period', 'game_id']).shot_made.agg({'n_free_throws': 'count', 'frac_succ_free_throws': 'mean'})  \n",
    "mean_succes_ft_period_game = succes_ft_period_game.groupby(['playoffs', 'period']).agg({'n_free_throws': 'mean', 'frac_succ_free_throws': 'mean'})\n",
    "mean_succes_ft_period_game.loc[('playoffs', 8),['n_free_throws', 'frac_succ_free_throws']] = [0, 0]\n"
   ]
  },
  {
   "cell_type": "code",
   "execution_count": 3,
   "metadata": {},
   "outputs": [
    {
     "data": {
      "image/png": "[encoded data removed]",
      "text/plain": [
       "<Figure size 432x288 with 1 Axes>"
      ]
     },
     "metadata": {
      "needs_background": "light"
     },
     "output_type": "display_data"
    }
   ],
   "source": [
    "x = mean_succes_ft_period_game.index.levels[1].values\n",
    "y = mean_succes_ft_period_game.loc['regular']['n_free_throws']\n",
    "z = mean_succes_ft_period_game.loc['playoffs']['n_free_throws']\n",
    "\n",
    "ax = plt.subplot(111)\n",
    "ax.bar(x-0.1, y,width=0.2,color='b',align='center')\n",
    "ax.bar(x+0.1, z,width=0.2,color='g',align='center')\n",
    "ax.set_xlabel('period')\n",
    "ax.set_ylabel('mean number of free throws')\n",
    "ax.legend( ('regular', 'playoffs') )\n",
    "ax.set_title('Number of free throws')\n",
    "\n",
    "plt.show()\n"
   ]
  },
  {
   "cell_type": "markdown",
   "metadata": {},
   "source": [
    "The number of free throws is somewhat higher in most periods for the playoffs. Moreover, the first half (first four periods) of the game sees the most free throws on average. Note that there is no eighth period in in the playoffs. (It is unclear to me whether some periods take more time than others, but this may explain the differences.)"
   ]
  },
  {
   "cell_type": "code",
   "execution_count": 4,
   "metadata": {},
   "outputs": [
    {
     "data": {
      "image/png": "[encoded data removed]",
      "text/plain": [
       "<Figure size 432x288 with 1 Axes>"
      ]
     },
     "metadata": {
      "needs_background": "light"
     },
     "output_type": "display_data"
    }
   ],
   "source": [
    "x = mean_succes_ft_period_game.index.levels[1].values\n",
    "y = mean_succes_ft_period_game.loc['regular']['frac_succ_free_throws']\n",
    "z = mean_succes_ft_period_game.loc['playoffs']['frac_succ_free_throws']\n",
    "\n",
    "ax = plt.subplot(111)\n",
    "ax.bar(x-0.1, y,width=0.2,color='b',align='center')\n",
    "ax.bar(x+0.1, z,width=0.2,color='g',align='center')\n",
    "ax.set_xlabel('period')\n",
    "ax.set_ylabel('Mean fraction of successful free throws')\n",
    "ax.legend( ('regular', 'playoffs') )\n",
    "ax.set_title('Success of free throws')\n",
    "\n",
    "plt.show()"
   ]
  },
  {
   "cell_type": "markdown",
   "metadata": {},
   "source": [
    "The fraction of successful free throws is very similar for different periods and different game types (regular or playoffs). Because this fraction does not display much variance when it comes to period and game type, we look at the fraction of successful free throws per player."
   ]
  },
  {
   "cell_type": "code",
   "execution_count": 7,
   "metadata": {},
   "outputs": [
    {
     "data": {
      "image/png": "[encoded data removed]",
      "text/plain": [
       "<Figure size 432x288 with 1 Axes>"
      ]
     },
     "metadata": {
      "needs_background": "light"
     },
     "output_type": "display_data"
    }
   ],
   "source": [
    "ax = plt.subplot(111)\n",
    "ax.hist(data.groupby(['player']).shot_made.agg({'mean'})['mean'], bins=20)\n",
    "ax.set_xlabel('Fraction of successful free throws')\n",
    "ax.set_ylabel('Frequency of players')\n",
    "ax.set_title('Success of free throws per player')\n",
    "\n",
    "plt.show()"
   ]
  },
  {
   "cell_type": "markdown",
   "metadata": {},
   "source": [
    "Clearly, there is a huge difference in performance per player. The distribution is somewhat bell-shaped with a slight skew (which makes sense since the support is compact). Note that the number of free throws per player is not taken into account, so some fractions will be more robust than others. In future, this could be further explored. Moreover, it would also be interesting to look at the relationship between fraction of successful free throws in a game and its final score."
   ]
  }
 ],
 "metadata": {
  "kernelspec": {
   "display_name": "Python 3",
   "language": "python",
   "name": "python3"
  },
  "language_info": {
   "codemirror_mode": {
    "name": "ipython",
    "version": 3
   },
   "file_extension": ".py",
   "mimetype": "text/x-python",
   "name": "python",
   "nbconvert_exporter": "python",
   "pygments_lexer": "ipython3",
   "version": "3.5.2"
  }
 },
 "nbformat": 4,
 "nbformat_minor": 2
}
